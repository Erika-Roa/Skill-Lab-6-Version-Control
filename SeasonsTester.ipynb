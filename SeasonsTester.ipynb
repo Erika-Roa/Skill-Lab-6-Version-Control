{
 "cells": [
  {
   "cell_type": "code",
   "execution_count": null,
   "id": "edb840ee-eb01-46ed-9417-271b1f96b6d1",
   "metadata": {},
   "outputs": [],
   "source": [
    "class SeasonsTester:  \n",
    "    @staticmethod  \n",
    "    def main():  \n",
    "        try:  \n",
    "            my_month = int(input(\"What month is your birthday? (Example: June is 6): \"))  \n",
    "            my_day = int(input(\"What day is your birthday?: \"))  \n",
    "        except ValueError:  \n",
    "            print(\"Invalid input. Please enter numeric values.\")  \n",
    "        return \n",
    "\n",
    "        my_date = Seasons(my_month, my_day) \n",
    "        season = my_date.get_season() \n",
    "            if season in [\"winter\", \"spring\", \"summer\", \"fall\"]: \n",
    "                image_filename = os.path.join(\"Seasons\", f\"{season}.jpeg\")  # Updated to include the folder path \n",
    "                my_date.set_image_path(image_filename) \n",
    "            else: \n",
    "                print(season)  # Prints \"Invalid date! Try again\" if date is incorrect \n",
    "                return \n",
    " \n",
    "            image_path = my_date.get_image_path() \n",
    "                if os.path.exists(image_path): \n",
    "                    display(Image(filename=image_path))  # Displays image inside Jupyter \n",
    "                else: \n",
    "                    print(f\"Image not found: {image_path}\") \n",
    " \n",
    "        print(f\"It's {season}! The date you placed is {my_date.get_month()}/{my_date.get_day()}\") \n",
    "  \n",
    "\n",
    "if name == \"main\": \n",
    "    SeasonsTester.main() "
   ]
  }
 ],
 "metadata": {
  "kernelspec": {
   "display_name": "Python 3 (ipykernel)",
   "language": "python",
   "name": "python3"
  },
  "language_info": {
   "codemirror_mode": {
    "name": "ipython",
    "version": 3
   },
   "file_extension": ".py",
   "mimetype": "text/x-python",
   "name": "python",
   "nbconvert_exporter": "python",
   "pygments_lexer": "ipython3",
   "version": "3.11.5"
  }
 },
 "nbformat": 4,
 "nbformat_minor": 5
}
